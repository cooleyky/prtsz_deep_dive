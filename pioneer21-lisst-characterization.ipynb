{
 "cells": [
  {
   "cell_type": "markdown",
   "id": "b6fd4690",
   "metadata": {},
   "source": [
    "# Characterize CTD Rosette-Mounted LISST Data\n",
    "\n",
    "Load data from Raw Data Archive Cruise Data for Pioneer MAB cruises:\n",
    " * <a>https://rawdata.oceanobservatories.org/files/cruise_data/Pioneer-MAB/Pioneer-21_AR87_2025-03-28/LISST/</a>\n",
    "\n",
    "Separate upcast from downcast data. Compare optical transmission. Also include dashed lines around LISST suspect span (per Sequoia manual). Compare profiles of optical transmission and total volume concentration between casts across distance and time."
   ]
  },
  {
   "cell_type": "markdown",
   "id": "b3911319",
   "metadata": {},
   "source": [
    "## Import libraries"
   ]
  },
  {
   "cell_type": "code",
   "execution_count": 5,
   "id": "3b76fef6",
   "metadata": {},
   "outputs": [],
   "source": [
    "# Import libraries used in this notebook\n",
    "import os\n",
    "import re\n",
    "import glob\n",
    "import urllib.request as request\n",
    "\n",
    "import pandas as pd\n",
    "import numpy as np\n",
    "import matplotlib.pyplot as plt\n",
    "import xarray as xr\n",
    "import cmocean as cmo"
   ]
  },
  {
   "cell_type": "markdown",
   "id": "03281140",
   "metadata": {},
   "source": [
    "## Load data\n",
    "\n",
    "Including parsing."
   ]
  },
  {
   "cell_type": "code",
   "execution_count": 2,
   "id": "24b8d932",
   "metadata": {},
   "outputs": [],
   "source": [
    "# Load LISST CSV column names from json containing column headers\n",
    "headers = pd.read_json(\"./inst_headers/lisst_hdr.json\", typ='series', orient='records')\n",
    "csvhdr = headers.iloc[0]\n",
    "# aschdr = headers.iloc[1] # CTD cast data headers for .asc files"
   ]
  },
  {
   "cell_type": "code",
   "execution_count": null,
   "id": "383025ce",
   "metadata": {},
   "outputs": [],
   "source": [
    "# Define functions\n",
    "def load_live_data(testname, csvhdr, testnum=1):\n",
    "    # Define paths to data\n",
    "    lisst_path = \"C:/Users/kylene.cooley/Documents/prtsz_bench_test\"\n",
    "    live_data_path = f\"{testname}_livedata_{testnum}.csv\"\n",
    "    # Load LISST data processed with onboard clean water background\n",
    "    f = path.join(lisst_path, live_data_path)\n",
    "    lisst_live = pd.read_csv(f, names=csvhdr)\n",
    "    try: print(lisst_live.head(1)) \n",
    "    except: print(\"No {testname} LISST data\")\n",
    "    return lisst_live"
   ]
  },
  {
   "cell_type": "code",
   "execution_count": null,
   "id": "cad93e7f",
   "metadata": {},
   "outputs": [],
   "source": [
    "# Write function to load PRTSZ total volume concentration from file name\n",
    "# [WE WILL WANT TO CHANGE THIS TO PROVIDE FULL DATASET]\n",
    "def load_prtsz_volume_concentration(prtsz_file):\n",
    "    \"\"\" Import PRTSZ data from CSV, use date and time\n",
    "    columns to create Pandas datetime Index, and define\n",
    "    Xarray Data Array object containing total volume\n",
    "    concentration time series.\n",
    "    Author: Kylene Cooley, 19 Apr 2024\n",
    "    Inputs:\n",
    "    -------\n",
    "    prtsz_file, str of file name in local PRTSZ along shelf CTD \n",
    "        survey data directory\n",
    "    Returns:\n",
    "    --------\n",
    "    vol_con, Data Array of total volume concentration from PRTSZ\n",
    "        dataset with 1 dim = \"time\"\n",
    "    \"\"\"\n",
    "    # Define path to locally saved PRTSZ data from CN site\n",
    "    prtsz_path = os.path.join(os.path.expanduser(\n",
    "    \"~/Desktop/pioneer-20_data/PRTSZ_on_rosette/AR82b_CTDsurvey_processed_data/\"),\n",
    "    prtsz_file)\n",
    "    # Import csv file using pandas and define variables\n",
    "    prtsz_data = pd.read_csv(prtsz_path, header=None)\n",
    "    total_vol_concentration = prtsz_data[50]\n",
    "    year = prtsz_data[42]\n",
    "    month = prtsz_data[43]\n",
    "    day = prtsz_data[44]\n",
    "    hour = prtsz_data[45]\n",
    "    minute = prtsz_data[46]\n",
    "    second = prtsz_data[47]\n",
    "    # Convert time parameter series to datetime vector\n",
    "    dt_df = pd.DataFrame({\"year\": year, \"month\": month,\n",
    "                        \"day\": day, \"hour\": hour,\n",
    "                        \"minute\": minute, \"second\": second})\n",
    "    prtsz_dt = pd.to_datetime(dt_df,\n",
    "                            yearfirst=True, utc=True)\n",
    "    # Create data array of total volume concentration with series\n",
    "    vol_con = xr.DataArray(data=total_vol_concentration.astype(float),\n",
    "                            coords={\"time\": prtsz_dt},\n",
    "                            name=\"total_volume_concentration\")\n",
    "    return vol_con"
   ]
  },
  {
   "cell_type": "code",
   "execution_count": null,
   "id": "c8964bf5",
   "metadata": {},
   "outputs": [],
   "source": [
    "# Define functions\n",
    "def load_lisst(castnum, csvhdr):\n",
    "    # Define paths to data\n",
    "    lisst_path = \"D:/LISST_PRTSZ/Pioneer21_AR87_PRTSZ_data\"\n",
    "    onboard_path = f\"AR87a_CAST{castnum}_*/*.csv\"\n",
    "    # Load LISST data processed with onboard clean water background\n",
    "    for f in glob.glob(path.join(lisst_path, onboard_path)):\n",
    "        # Find the Julian date-time string from the file name with regex\n",
    "        filename_base = re.findall(\"I[0-9]{7}\", f)\n",
    "        lisst_onboard = pd.read_csv(f, names=csvhdr)\n",
    "        try: print(lisst_onboard.head(1)) \n",
    "        except: print(\"No onboard LISST data\")\n",
    "        # Load LISST data processed with updated clean water background\n",
    "        reproc_path = f\"Processed_Data_for_QC/20250404_Reprocessed/{re.sub(\"I\", \"L\", filename_base[0])}*.csv\"\n",
    "        for f in glob.glob(path.join(lisst_path, reproc_path)):\n",
    "            lisst_reproc = pd.read_csv(f, names=csvhdr)\n",
    "        try: print(lisst_reproc.head(1)) \n",
    "        except: print(\"No reprocessed LISST data\")\n",
    "    return lisst_onboard, lisst_reproc"
   ]
  },
  {
   "cell_type": "code",
   "execution_count": null,
   "id": "81c212f3",
   "metadata": {},
   "outputs": [],
   "source": [
    "# Create LISST and CTD time vectors for Dataset coordinates\n",
    "lisst_time = pd.to_datetime(lisst_onboard[[\"year\", \"month\", \"day\", \"hour\", \"minute\", \"second\"]], yearfirst=True, utc=True)\n",
    "lisst_onboard.insert(0, \"time\", lisst_time.values)\n",
    "lisst_onboard.set_index(\"time\", drop=True, inplace=True)\n",
    "print(lisst_onboard.head(1))"
   ]
  },
  {
   "cell_type": "code",
   "execution_count": null,
   "id": "6d8d75cd",
   "metadata": {},
   "outputs": [],
   "source": [
    "# Convert data frames to xarray for easy manipulation\n",
    "ctd_inst = xr.Dataset.from_dataframe(ctd_inst)\n",
    "lisst_onboard = xr.Dataset.from_dataframe(lisst_onboard)\n",
    "lisst_reproc = xr.Dataset.from_dataframe(lisst_reproc)"
   ]
  },
  {
   "cell_type": "code",
   "execution_count": null,
   "id": "8ec6c54c",
   "metadata": {},
   "outputs": [],
   "source": [
    "# Interpolate optical transmission onto common time coordinates\n",
    "# Used for finding the difference between the optical transmission signals\n",
    "start_dt = ctd_inst.time[0].values\n",
    "end_dt = ctd_inst.time[-1].values\n",
    "time_coord = pd.date_range(start=start_dt, end=end_dt, freq=\"1s\")\n",
    "ctd_interp = ctd_inst.interp(time=time_coord)\n",
    "lisst_onboard_interp = lisst_onboard.interp(time=time_coord)\n",
    "lisst_reproc_interp = lisst_reproc.interp(time=time_coord)"
   ]
  },
  {
   "cell_type": "code",
   "execution_count": 51,
   "id": "af6bc3bb",
   "metadata": {},
   "outputs": [],
   "source": [
    "# Define base url for data on Raw Data Archive\n",
    "rdaURL = \"https://rawdata.oceanobservatories.org/files/cruise_data/Pioneer-MAB/Pioneer-21_AR87_2025-03-28/LISST/\""
   ]
  },
  {
   "cell_type": "code",
   "execution_count": 52,
   "id": "5b486db5",
   "metadata": {},
   "outputs": [],
   "source": [
    "# Use the readme file to get CSV file names for each cast\n",
    "castfiles = {}\n",
    "filenext = False\n",
    "text, urlheaders =  request.urlretrieve(rdaURL+\"AR87_LISST_README.txt\")\n",
    "with open(text) as f:\n",
    "    for x in f:\n",
    "        if \"CAST\" in x:\n",
    "            # print(x)\n",
    "            cast = x.replace(\"    \", \"\")[:-1]\n",
    "            filenext = True\n",
    "            continue\n",
    "        if filenext is True:\n",
    "            # print(x)\n",
    "            file = x.replace(\"    \", \"\")[:-1]\n",
    "            castfiles[cast] = file\n",
    "            filenext = False\n",
    "# castfiles"
   ]
  },
  {
   "cell_type": "code",
   "execution_count": null,
   "id": "8b8d195d",
   "metadata": {},
   "outputs": [
    {
     "name": "stdout",
     "output_type": "stream",
     "text": [
      "AR87a_CAST001_L6\n",
      "I0872156.CSV\n"
     ]
    }
   ],
   "source": [
    "# Load data with dict values\n",
    "# for key, value in castfiles:\n",
    "pairs = list(castfiles.items())\n",
    "key, value = pairs[0]\n",
    "print(key)\n",
    "print(value)\n"
   ]
  },
  {
   "cell_type": "markdown",
   "id": "2cfb4a6f",
   "metadata": {},
   "source": [
    "## Separate key parameters for analysis"
   ]
  },
  {
   "cell_type": "code",
   "execution_count": null,
   "id": "042ded2d",
   "metadata": {},
   "outputs": [],
   "source": [
    "# List of strings to label casts\n",
    "castnum = np.arange(23)\n",
    "castname = [lambda x: f\"Cast{x%}\"] # Left pad cast numbers with 0 to 3 digits\n",
    "for num in castnum:\n",
    "    pattern = castname(num)\n",
    "    # use the pattern and a base dir path to build the path to the cast data file\n",
    "    # not every cast has a file, so we need to do error handling to skip these"
   ]
  },
  {
   "cell_type": "code",
   "execution_count": null,
   "id": "eb57916a",
   "metadata": {},
   "outputs": [],
   "source": [
    "# Split datasets containing multiple casts (first cast aborted, for example)"
   ]
  },
  {
   "cell_type": "code",
   "execution_count": null,
   "id": "54c95bb6",
   "metadata": {},
   "outputs": [],
   "source": [
    "# Combine cast data with cast number as a new dimension (goal: simplify plotting)"
   ]
  },
  {
   "cell_type": "markdown",
   "id": "b2a2dfc6",
   "metadata": {},
   "source": [
    "## Compare optical transmission data by depth"
   ]
  },
  {
   "cell_type": "code",
   "execution_count": null,
   "id": "3ad9dba1",
   "metadata": {},
   "outputs": [],
   "source": [
    "# Define plotting function to make similar\n",
    "# figures given axes and 3 data arrays\n",
    "def plot_prtsz_comparison(ax1, volume_concentration,\n",
    "                          beam_transmission, depth):\n",
    "    midpt = int(len(beam_transmission)/2)\n",
    "    ax2 = ax1.twiny()\n",
    "    ax1.plot(volume_concentration[:midpt], depth[:midpt], c=\"black\")\n",
    "    ax1.plot(volume_concentration[midpt-1:], depth[midpt-1:], \"--\", c=\"black\", lw=1)\n",
    "    ax1.invert_yaxis()\n",
    "    ax1.set_xlabel(\"Total volume concentration [PPM]\")\n",
    "    ax1.set_ylabel(\"Depth [m]\")\n",
    "    ax2.plot(beam_transmission[:midpt], depth[:midpt], c=\"skyblue\")\n",
    "    ax2.plot(beam_transmission[midpt-1:], depth[midpt-1:], \"--\", c=\"skyblue\", lw=1)\n",
    "    ax2.set_xlabel(\"Beam transmission %\", color=\"skyblue\")\n",
    "    return "
   ]
  },
  {
   "cell_type": "markdown",
   "id": "b61948e6",
   "metadata": {},
   "source": [
    "## Compare total volume concentration by depth"
   ]
  },
  {
   "cell_type": "code",
   "execution_count": null,
   "id": "9e894f2d",
   "metadata": {},
   "outputs": [],
   "source": []
  },
  {
   "cell_type": "markdown",
   "id": "ec102d98",
   "metadata": {},
   "source": [
    "## Compare reference laser power and temperature\n",
    "\n",
    "<ul>\n",
    "    <li>Profiles by depth</li>\n",
    "    <ul>\n",
    "        <li>twin x-axes</li>\n",
    "        <li>subplots side-by-side</li>\n",
    "    </ul>\n",
    "    <li>Scatter plot</li>\n",
    "    <ul>\n",
    "        <li>with linear regression if there appears to be a relationship</li>\n",
    "    </ul>\n",
    "</ul>"
   ]
  },
  {
   "cell_type": "markdown",
   "id": "bf285669",
   "metadata": {},
   "source": [
    "## Compare laser transmission power and temperature\n",
    "\n",
    "<ul>\n",
    "    <li>Profiles by depth</li>\n",
    "    <ul>\n",
    "        <li>twin x-axes</li>\n",
    "        <li>subplots side-by-side</li>\n",
    "    </ul>\n",
    "    <li>Scatter plot</li>\n",
    "    <ul>\n",
    "        <li>with linear regression if there appears to be a relationship</li>\n",
    "    </ul>\n",
    "</ul>"
   ]
  },
  {
   "cell_type": "markdown",
   "id": "df73705a",
   "metadata": {},
   "source": [
    "## Compare ambient light by depth"
   ]
  },
  {
   "cell_type": "markdown",
   "id": "cf566247",
   "metadata": {},
   "source": [
    "## Compare mean particle diameter by depth"
   ]
  },
  {
   "cell_type": "markdown",
   "id": "f4d3baa0",
   "metadata": {},
   "source": []
  }
 ],
 "metadata": {
  "kernelspec": {
   "display_name": "prtsz",
   "language": "python",
   "name": "python3"
  },
  "language_info": {
   "codemirror_mode": {
    "name": "ipython",
    "version": 3
   },
   "file_extension": ".py",
   "mimetype": "text/x-python",
   "name": "python",
   "nbconvert_exporter": "python",
   "pygments_lexer": "ipython3",
   "version": "3.13.2"
  }
 },
 "nbformat": 4,
 "nbformat_minor": 5
}
