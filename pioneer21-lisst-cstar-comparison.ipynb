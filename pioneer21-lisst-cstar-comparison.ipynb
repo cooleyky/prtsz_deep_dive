{
 "cells": [
  {
   "cell_type": "markdown",
   "id": "b6fd4690",
   "metadata": {},
   "source": [
    "# Compare CTD Rosette-Mounted LISST and CStar Transmissometer Data\n",
    "\n",
    "Separate upcast from downcast data. Compare optical transmission. Also include dashed lines around LISST suspect span (per Sequoia manual). Compare profiles of optical transmission with turbidity also recorded by CStar."
   ]
  },
  {
   "cell_type": "markdown",
   "id": "b3911319",
   "metadata": {},
   "source": [
    "## Import libraries"
   ]
  },
  {
   "cell_type": "code",
   "execution_count": null,
   "id": "3b76fef6",
   "metadata": {},
   "outputs": [],
   "source": []
  },
  {
   "cell_type": "markdown",
   "id": "03281140",
   "metadata": {},
   "source": [
    "## Load data\n",
    "\n",
    "Including parsing."
   ]
  },
  {
   "cell_type": "code",
   "execution_count": null,
   "id": "cad93e7f",
   "metadata": {},
   "outputs": [],
   "source": []
  },
  {
   "cell_type": "markdown",
   "id": "2cfb4a6f",
   "metadata": {},
   "source": [
    "## Separate key parameters for analysis"
   ]
  },
  {
   "cell_type": "code",
   "execution_count": null,
   "id": "9753c6dc",
   "metadata": {},
   "outputs": [],
   "source": []
  },
  {
   "cell_type": "markdown",
   "id": "b2a2dfc6",
   "metadata": {},
   "source": [
    "## Compare optical transmission data"
   ]
  },
  {
   "cell_type": "code",
   "execution_count": null,
   "id": "98c20606",
   "metadata": {},
   "outputs": [],
   "source": []
  },
  {
   "cell_type": "markdown",
   "id": "b61948e6",
   "metadata": {},
   "source": [
    "## Compare optical transmission or total volume concentration with turbidity"
   ]
  },
  {
   "cell_type": "code",
   "execution_count": null,
   "id": "9e894f2d",
   "metadata": {},
   "outputs": [],
   "source": []
  }
 ],
 "metadata": {
  "kernelspec": {
   "display_name": "prtsz",
   "language": "python",
   "name": "python3"
  },
  "language_info": {
   "name": "python",
   "version": "3.13.2"
  }
 },
 "nbformat": 4,
 "nbformat_minor": 5
}
